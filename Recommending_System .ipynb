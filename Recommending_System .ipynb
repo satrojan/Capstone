{
 "cells": [
  {
   "cell_type": "code",
   "execution_count": 1,
   "metadata": {},
   "outputs": [],
   "source": [
    "import pandas as pd, numpy as np"
   ]
  },
  {
   "cell_type": "code",
   "execution_count": 2,
   "metadata": {},
   "outputs": [],
   "source": [
    "from sklearn.metrics import jaccard_similarity_score\n",
    "from sklearn.metrics.pairwise import cosine_similarity\n",
    "from sklearn.preprocessing import StandardScaler"
   ]
  },
  {
   "cell_type": "code",
   "execution_count": 24,
   "metadata": {},
   "outputs": [],
   "source": [
    "df = pd.read_csv(\"./data/weighted_db.csv\",index_col='Unnamed: 0')"
   ]
  },
  {
   "cell_type": "code",
   "execution_count": 25,
   "metadata": {
    "scrolled": true
   },
   "outputs": [
    {
     "data": {
      "text/plain": [
       "(20832, 138)"
      ]
     },
     "execution_count": 25,
     "metadata": {},
     "output_type": "execute_result"
    }
   ],
   "source": [
    "df.shape"
   ]
  },
  {
   "cell_type": "code",
   "execution_count": 5,
   "metadata": {},
   "outputs": [],
   "source": [
    "df = df[df.sum(axis=1)>1]"
   ]
  },
  {
   "cell_type": "code",
   "execution_count": 6,
   "metadata": {},
   "outputs": [],
   "source": [
    "col_names = df.columns.values\n",
    "ind_names = df.index.values"
   ]
  },
  {
   "cell_type": "code",
   "execution_count": 7,
   "metadata": {},
   "outputs": [],
   "source": [
    "sc = StandardScaler()"
   ]
  },
  {
   "cell_type": "code",
   "execution_count": 8,
   "metadata": {},
   "outputs": [
    {
     "name": "stdout",
     "output_type": "stream",
     "text": [
      "<class 'pandas.core.frame.DataFrame'>\n",
      "Index: 11621 entries, 0w0 to zuckmemes\n",
      "Data columns (total 138 columns):\n",
      "morbidquestions        11621 non-null float64\n",
      "gadgets                11621 non-null float64\n",
      "dirtykikpals           11621 non-null float64\n",
      "PoliticalHumor         11621 non-null float64\n",
      "funny                  11621 non-null float64\n",
      "WTF                    11621 non-null float64\n",
      "europeanunion          11621 non-null float64\n",
      "answers                11621 non-null float64\n",
      "florida                11621 non-null float64\n",
      "healthcare             11621 non-null float64\n",
      "newzealand             11621 non-null float64\n",
      "The_Donald             11621 non-null float64\n",
      "reddevils              11621 non-null float64\n",
      "fantasyfootball        11621 non-null float64\n",
      "The_Mueller            11621 non-null float64\n",
      "movies                 11621 non-null float64\n",
      "Juve                   11621 non-null float64\n",
      "AskHistorians          11621 non-null float64\n",
      "OrlandoMagic           11621 non-null float64\n",
      "hiphopheads            11621 non-null float64\n",
      "NoStupidQuestions      11621 non-null float64\n",
      "quotes                 11621 non-null float64\n",
      "nfl                    11621 non-null float64\n",
      "television             11621 non-null float64\n",
      "dadjokes               11621 non-null float64\n",
      "gaming                 11621 non-null float64\n",
      "AskOuija               11621 non-null float64\n",
      "pics                   11621 non-null float64\n",
      "Romania                11621 non-null float64\n",
      "CrazyIdeas             11621 non-null float64\n",
      "teenagers              11621 non-null float64\n",
      "nottheonion            11621 non-null float64\n",
      "hiphop                 11621 non-null float64\n",
      "legaladvice            11621 non-null float64\n",
      "NBAlive                11621 non-null float64\n",
      "DnD                    11621 non-null float64\n",
      "bakchodi               11621 non-null float64\n",
      "de                     11621 non-null float64\n",
      "soccer                 11621 non-null float64\n",
      "GameLive_0n            11621 non-null float64\n",
      "nba                    11621 non-null float64\n",
      "personalfinance        11621 non-null float64\n",
      "LiverpoolFC            11621 non-null float64\n",
      "unpopularopinion       11621 non-null float64\n",
      "smashbros              11621 non-null float64\n",
      "yankees                11621 non-null float64\n",
      "SandersForPresident    11621 non-null float64\n",
      "listentothis           11621 non-null float64\n",
      "Music                  11621 non-null float64\n",
      "worldnews              11621 non-null float64\n",
      "politics               11621 non-null float64\n",
      "FortNiteBR             11621 non-null float64\n",
      "RandomThoughts         11621 non-null float64\n",
      "u_Autotradenews        11621 non-null float64\n",
      "space                  11621 non-null float64\n",
      "BlueMidterm2018        11621 non-null float64\n",
      "DunkNation3x3          11621 non-null float64\n",
      "NBA2k                  11621 non-null float64\n",
      "SquaredCircle          11621 non-null float64\n",
      "IRstudies              11621 non-null float64\n",
      "technology             11621 non-null float64\n",
      "tmobile                11621 non-null float64\n",
      "Boxing                 11621 non-null float64\n",
      "leagueoflegends        11621 non-null float64\n",
      "mildlyinteresting      11621 non-null float64\n",
      "relationships          11621 non-null float64\n",
      "LifeProTips            11621 non-null float64\n",
      "Kanye                  11621 non-null float64\n",
      "WritingPrompts         11621 non-null float64\n",
      "todayilearned          11621 non-null float64\n",
      "AskWomen               11621 non-null float64\n",
      "Psychonaut             11621 non-null float64\n",
      "Eminem                 11621 non-null float64\n",
      "privacy                11621 non-null float64\n",
      "hmmm                   11621 non-null float64\n",
      "videos                 11621 non-null float64\n",
      "Futurology             11621 non-null float64\n",
      "explainlikeimfive      11621 non-null float64\n",
      "AskReddit              11621 non-null float64\n",
      "LSAT                   11621 non-null float64\n",
      "DotA2                  11621 non-null float64\n",
      "apple                  11621 non-null float64\n",
      "Health                 11621 non-null float64\n",
      "marvelstudios          11621 non-null float64\n",
      "TooAfraidToAsk         11621 non-null float64\n",
      "AskEurope              11621 non-null float64\n",
      "tech                   11621 non-null float64\n",
      "lakers                 11621 non-null float64\n",
      "tipofmytongue          11621 non-null float64\n",
      "opieandanthony         11621 non-null float64\n",
      "oneliners              11621 non-null float64\n",
      "dankmemes              11621 non-null float64\n",
      "AntiJokes              11621 non-null float64\n",
      "sex                    11621 non-null float64\n",
      "streetwear             11621 non-null float64\n",
      "travel                 11621 non-null float64\n",
      "timberwolves           11621 non-null float64\n",
      "MaddenUltimateTeam     11621 non-null float64\n",
      "findareddit            11621 non-null float64\n",
      "Android                11621 non-null float64\n",
      "darkjokes              11621 non-null float64\n",
      "stalker                11621 non-null float64\n",
      "shittyaskscience       11621 non-null float64\n",
      "baseball               11621 non-null float64\n",
      "FIFA                   11621 non-null float64\n",
      "DoesAnybodyElse        11621 non-null float64\n",
      "science                11621 non-null float64\n",
      "NBA2kTeamUp            11621 non-null float64\n",
      "EverythingScience      11621 non-null float64\n",
      "india                  11621 non-null float64\n",
      "web_design             11621 non-null float64\n",
      "aww                    11621 non-null float64\n",
      "DiepioPartyLinks       11621 non-null float64\n",
      "minnesotavikings       11621 non-null float64\n",
      "SuicideWatch           11621 non-null float64\n",
      "askscience             11621 non-null float64\n",
      "Jokes                  11621 non-null float64\n",
      "Showerthoughts         11621 non-null float64\n",
      "europe                 11621 non-null float64\n",
      "IndianFootball         11621 non-null float64\n",
      "bangalore              11621 non-null float64\n",
      "borrow                 11621 non-null float64\n",
      "Advice                 11621 non-null float64\n",
      "Louisville             11621 non-null float64\n",
      "BlackPeopleTwitter     11621 non-null float64\n",
      "Cumtown                11621 non-null float64\n",
      "ShittyLifeProTips      11621 non-null float64\n",
      "GDmaze                 11621 non-null float64\n",
      "Fireteams              11621 non-null float64\n",
      "Fantasy_Football       11621 non-null float64\n",
      "Drugs                  11621 non-null float64\n",
      "TwoXChromosomes        11621 non-null float64\n",
      "ukpolitics             11621 non-null float64\n",
      "Standup                11621 non-null float64\n",
      "Rainbow6               11621 non-null float64\n",
      "MMA                    11621 non-null float64\n",
      "nbaleaguesim2019       11621 non-null float64\n",
      "news                   11621 non-null float64\n",
      "dtypes: float64(138)\n",
      "memory usage: 12.3+ MB\n"
     ]
    }
   ],
   "source": [
    "df.info(verbose=True, null_counts=True)"
   ]
  },
  {
   "cell_type": "code",
   "execution_count": 26,
   "metadata": {},
   "outputs": [
    {
     "data": {
      "text/plain": [
       "TooAfraidToAsk          26.0\n",
       "dankmemes               18.0\n",
       "me_irl                  13.0\n",
       "GoneMildPlus            11.0\n",
       "aww                     10.0\n",
       "DeepFriedMemes          10.0\n",
       "translator               9.0\n",
       "whatsthisbug             9.0\n",
       "funny                    8.0\n",
       "mildlyinfuriating        8.0\n",
       "PUBATTLEGROUNDS          7.0\n",
       "learnart                 6.0\n",
       "wholesomememes           6.0\n",
       "pics                     6.0\n",
       "cursedimages             5.0\n",
       "memes                    5.0\n",
       "woooosh                  5.0\n",
       "cockatiel                5.0\n",
       "PewdiepieSubmissions     5.0\n",
       "PrequelMemes             4.0\n",
       "Name: TooAfraidToAsk, dtype: float64"
      ]
     },
     "execution_count": 26,
     "metadata": {},
     "output_type": "execute_result"
    }
   ],
   "source": [
    "i='TooAfraidToAsk'\n",
    "df[i].sort_values(ascending=False).head(20)"
   ]
  },
  {
   "cell_type": "code",
   "execution_count": null,
   "metadata": {},
   "outputs": [],
   "source": []
  }
 ],
 "metadata": {
  "kernelspec": {
   "display_name": "Python 3",
   "language": "python",
   "name": "python3"
  },
  "language_info": {
   "codemirror_mode": {
    "name": "ipython",
    "version": 3
   },
   "file_extension": ".py",
   "mimetype": "text/x-python",
   "name": "python",
   "nbconvert_exporter": "python",
   "pygments_lexer": "ipython3",
   "version": "3.6.5"
  }
 },
 "nbformat": 4,
 "nbformat_minor": 2
}
