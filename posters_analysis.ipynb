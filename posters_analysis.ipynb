{
 "cells": [
  {
   "cell_type": "code",
   "execution_count": 1,
   "metadata": {},
   "outputs": [],
   "source": [
    "import pandas as pd"
   ]
  },
  {
   "cell_type": "code",
   "execution_count": 2,
   "metadata": {},
   "outputs": [],
   "source": [
    "subreddit = 'yankees'"
   ]
  },
  {
   "cell_type": "code",
   "execution_count": 3,
   "metadata": {},
   "outputs": [],
   "source": [
    "df = pd.read_csv('./data/{}_posters_lst.csv'.format(subreddit))"
   ]
  },
  {
   "cell_type": "code",
   "execution_count": 4,
   "metadata": {},
   "outputs": [
    {
     "data": {
      "text/html": [
       "<div>\n",
       "<style scoped>\n",
       "    .dataframe tbody tr th:only-of-type {\n",
       "        vertical-align: middle;\n",
       "    }\n",
       "\n",
       "    .dataframe tbody tr th {\n",
       "        vertical-align: top;\n",
       "    }\n",
       "\n",
       "    .dataframe thead th {\n",
       "        text-align: right;\n",
       "    }\n",
       "</style>\n",
       "<table border=\"1\" class=\"dataframe\">\n",
       "  <thead>\n",
       "    <tr style=\"text-align: right;\">\n",
       "      <th></th>\n",
       "      <th>subreddits</th>\n",
       "    </tr>\n",
       "  </thead>\n",
       "  <tbody>\n",
       "    <tr>\n",
       "      <th>0</th>\n",
       "      <td>rangers</td>\n",
       "    </tr>\n",
       "    <tr>\n",
       "      <th>1</th>\n",
       "      <td>yankees</td>\n",
       "    </tr>\n",
       "    <tr>\n",
       "      <th>2</th>\n",
       "      <td>NBA2k</td>\n",
       "    </tr>\n",
       "    <tr>\n",
       "      <th>3</th>\n",
       "      <td>NBA2k</td>\n",
       "    </tr>\n",
       "    <tr>\n",
       "      <th>4</th>\n",
       "      <td>hiphopheads</td>\n",
       "    </tr>\n",
       "  </tbody>\n",
       "</table>\n",
       "</div>"
      ],
      "text/plain": [
       "    subreddits\n",
       "0      rangers\n",
       "1      yankees\n",
       "2        NBA2k\n",
       "3        NBA2k\n",
       "4  hiphopheads"
      ]
     },
     "execution_count": 4,
     "metadata": {},
     "output_type": "execute_result"
    }
   ],
   "source": [
    "df.head()"
   ]
  },
  {
   "cell_type": "code",
   "execution_count": 5,
   "metadata": {},
   "outputs": [
    {
     "data": {
      "text/plain": [
       "yankees                  102\n",
       "NYYankees                 22\n",
       "nba                       13\n",
       "Showerthoughts            11\n",
       "mlb                       10\n",
       "AskReddit                  9\n",
       "baseball                   9\n",
       "sports                     9\n",
       "Kanye                      7\n",
       "nfl                        6\n",
       "gaming                     5\n",
       "Fantasy_Football           5\n",
       "hiphopheads                5\n",
       "redsox                     5\n",
       "fantasyfootball            5\n",
       "movies                     4\n",
       "AskOuija                   4\n",
       "dataisbeautiful            4\n",
       "FIFA                       4\n",
       "Music                      4\n",
       "Broadway                   4\n",
       "grandpajoehate             3\n",
       "anime                      3\n",
       "listentothis               3\n",
       "NewYorkMets                3\n",
       "GreenBayPackers            3\n",
       "classicfilms               3\n",
       "MLBTheShow                 3\n",
       "Blackops4                  3\n",
       "CFB                        3\n",
       "                        ... \n",
       "CHIBears                   1\n",
       "LaurenSearle               1\n",
       "itookapicture              1\n",
       "Teachers                   1\n",
       "wimhof                     1\n",
       "quittingkratom             1\n",
       "whitesox                   1\n",
       "legaladvice                1\n",
       "BreakUps                   1\n",
       "BeatTheStreak              1\n",
       "podcasts                   1\n",
       "darkestdungeon             1\n",
       "ClashRoyale                1\n",
       "LifeProTips                1\n",
       "gmu                        1\n",
       "tattoo                     1\n",
       "LearnJapanese              1\n",
       "Instagram                  1\n",
       "juul                       1\n",
       "Plumbing                   1\n",
       "thanosdidnothingwrong      1\n",
       "Frat                       1\n",
       "PostMalone                 1\n",
       "USLPRO                     1\n",
       "diabetes_t1                1\n",
       "WWEChampions               1\n",
       "sixers                     1\n",
       "KidsAreFuckingStupid       1\n",
       "Ozark                      1\n",
       "noisygifs                  1\n",
       "Name: subreddits, Length: 312, dtype: int64"
      ]
     },
     "execution_count": 5,
     "metadata": {},
     "output_type": "execute_result"
    }
   ],
   "source": [
    "df.subreddits.value_counts()"
   ]
  },
  {
   "cell_type": "code",
   "execution_count": null,
   "metadata": {},
   "outputs": [],
   "source": []
  }
 ],
 "metadata": {
  "kernelspec": {
   "display_name": "Python 3",
   "language": "python",
   "name": "python3"
  },
  "language_info": {
   "codemirror_mode": {
    "name": "ipython",
    "version": 3
   },
   "file_extension": ".py",
   "mimetype": "text/x-python",
   "name": "python",
   "nbconvert_exporter": "python",
   "pygments_lexer": "ipython3",
   "version": "3.6.5"
  }
 },
 "nbformat": 4,
 "nbformat_minor": 2
}
