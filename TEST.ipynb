{
 "cells": [
  {
   "cell_type": "code",
   "execution_count": null,
   "metadata": {},
   "outputs": [],
   "source": [
    "import numpy as np\n",
    "import pandas as pd\n",
    "import requests\n",
    "import json\n",
    "\n",
    "\n",
    "df = pd.read_csv('./workfile_new.csv')\n",
    "for z in df.sub_name.values:\n",
    "\n",
    "\n",
    "\tdf_sub = pd.read_csv('./data/Final/{}_final.csv'.format(z))\n",
    "\n",
    "\tdf_sub.drop_duplicates('author',inplace=True)\n",
    "\n",
    "\tauth_lst=df_sub.author.values\n",
    "\t#print(auth_lst)\n",
    "    sub_lst = []\n",
    "    for i in auth_lst:\n",
    "        json_link  = 'https://www.reddit.com/user/{}/.json'.format(i)\n",
    "        res = requests.get(json_link, headers={'User-agent': 'Capstone Bot 0.1'})\n",
    "        data = res.json()\n",
    "        #print(data)\n",
    "        try:\n",
    "            df=pd.DataFrame(data)\n",
    "            df.head()\n",
    "            try:\n",
    "                df=pd.DataFrame(df.T.children[1])\n",
    "                #print(len(df.data[1]))\n",
    "            except:\n",
    "                continue\n",
    "            for i in range(24):\n",
    "                if len(df.data[i])>=92:\n",
    "                    sub_lst.append(df.data[i]['subreddit'])\n",
    "            print(sub_lst[-1])\n",
    "        except: \n",
    "            continue\n",
    "\n",
    "\t\tdf = pd.DataFrame({'subreddits':sub_lst})\n",
    "\n",
    "\n",
    "\tdf.to_csv('./data/{}_posters_lst.csv'.format(z),index=False)\n"
   ]
  },
  {
   "cell_type": "code",
   "execution_count": null,
   "metadata": {},
   "outputs": [],
   "source": []
  }
 ],
 "metadata": {
  "kernelspec": {
   "display_name": "Python 3",
   "language": "python",
   "name": "python3"
  },
  "language_info": {
   "codemirror_mode": {
    "name": "ipython",
    "version": 3
   },
   "file_extension": ".py",
   "mimetype": "text/x-python",
   "name": "python",
   "nbconvert_exporter": "python",
   "pygments_lexer": "ipython3",
   "version": "3.6.5"
  }
 },
 "nbformat": 4,
 "nbformat_minor": 2
}
