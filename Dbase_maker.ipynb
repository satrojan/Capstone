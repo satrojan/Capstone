{
 "cells": [
  {
   "cell_type": "code",
   "execution_count": 32,
   "metadata": {},
   "outputs": [],
   "source": [
    "import pandas as pd\n",
    "import numpy as np\n",
    "import regex as re\n",
    "import time"
   ]
  },
  {
   "cell_type": "code",
   "execution_count": 34,
   "metadata": {
    "scrolled": true
   },
   "outputs": [
    {
     "data": {
      "text/plain": [
       "['morbidquestions_posters_lst.csv',\n",
       " 'gadgets_posters_lst.csv',\n",
       " 'dirtykikpals_posters_lst.csv',\n",
       " 'PoliticalHumor_posters_lst.csv',\n",
       " 'funny_posters_lst.csv',\n",
       " 'WTF_posters_lst.csv',\n",
       " 'europeanunion_posters_lst.csv',\n",
       " 'answers_posters_lst.csv',\n",
       " 'florida_posters_lst.csv',\n",
       " 'healthcare_posters_lst.csv',\n",
       " 'newzealand_posters_lst.csv',\n",
       " 'The_Donald_posters_lst.csv',\n",
       " 'reddevils_posters_lst.csv',\n",
       " 'fantasyfootball_posters_lst.csv',\n",
       " 'The_Mueller_posters_lst.csv',\n",
       " 'movies_posters_lst.csv',\n",
       " 'Juve_posters_lst.csv',\n",
       " 'AskHistorians_posters_lst.csv',\n",
       " 'OrlandoMagic_posters_lst.csv',\n",
       " 'hiphopheads_posters_lst.csv',\n",
       " 'NoStupidQuestions_posters_lst.csv',\n",
       " 'quotes_posters_lst.csv',\n",
       " 'nfl_posters_lst.csv',\n",
       " 'television_posters_lst.csv',\n",
       " 'dadjokes_posters_lst.csv',\n",
       " 'gaming_posters_lst.csv',\n",
       " 'AskOuija_posters_lst.csv',\n",
       " 'pics_posters_lst.csv',\n",
       " 'Romania_posters_lst.csv',\n",
       " 'CrazyIdeas_posters_lst.csv',\n",
       " 'teenagers_posters_lst.csv',\n",
       " 'nottheonion_posters_lst.csv',\n",
       " 'hiphop_posters_lst.csv',\n",
       " 'legaladvice_posters_lst.csv',\n",
       " 'NBAlive_posters_lst.csv',\n",
       " 'DnD_posters_lst.csv',\n",
       " 'bakchodi_posters_lst.csv',\n",
       " 'de_posters_lst.csv',\n",
       " 'soccer_posters_lst.csv',\n",
       " 'GameLive_0n_posters_lst.csv',\n",
       " 'nba_posters_lst.csv',\n",
       " 'personalfinance_posters_lst.csv',\n",
       " 'LiverpoolFC_posters_lst.csv',\n",
       " 'unpopularopinion_posters_lst.csv',\n",
       " 'smashbros_posters_lst.csv',\n",
       " 'yankees_posters_lst.csv',\n",
       " 'SandersForPresident_posters_lst.csv',\n",
       " 'listentothis_posters_lst.csv',\n",
       " 'Music_posters_lst.csv',\n",
       " 'worldnews_posters_lst.csv',\n",
       " 'politics_posters_lst.csv',\n",
       " 'FortNiteBR_posters_lst.csv',\n",
       " 'RandomThoughts_posters_lst.csv',\n",
       " 'u_Autotradenews_posters_lst.csv',\n",
       " 'space_posters_lst.csv',\n",
       " 'BlueMidterm2018_posters_lst.csv',\n",
       " 'DunkNation3x3_posters_lst.csv',\n",
       " 'NBA2k_posters_lst.csv',\n",
       " 'SquaredCircle_posters_lst.csv',\n",
       " 'IRstudies_posters_lst.csv',\n",
       " 'technology_posters_lst.csv',\n",
       " 'tmobile_posters_lst.csv',\n",
       " 'Boxing_posters_lst.csv',\n",
       " 'leagueoflegends_posters_lst.csv',\n",
       " 'mildlyinteresting_posters_lst.csv',\n",
       " 'relationships_posters_lst.csv',\n",
       " 'LifeProTips_posters_lst.csv',\n",
       " 'Kanye_posters_lst.csv',\n",
       " 'WritingPrompts_posters_lst.csv',\n",
       " 'todayilearned_posters_lst.csv',\n",
       " 'AskWomen_posters_lst.csv',\n",
       " 'Psychonaut_posters_lst.csv',\n",
       " 'Eminem_posters_lst.csv',\n",
       " 'privacy_posters_lst.csv',\n",
       " 'hmmm_posters_lst.csv',\n",
       " 'videos_posters_lst.csv',\n",
       " 'Futurology_posters_lst.csv',\n",
       " 'explainlikeimfive_posters_lst.csv',\n",
       " 'AskReddit_posters_lst.csv',\n",
       " 'LSAT_posters_lst.csv',\n",
       " 'DotA2_posters_lst.csv',\n",
       " 'apple_posters_lst.csv',\n",
       " 'Health_posters_lst.csv',\n",
       " 'marvelstudios_posters_lst.csv',\n",
       " 'TooAfraidToAsk_posters_lst.csv',\n",
       " 'AskEurope_posters_lst.csv',\n",
       " 'tech_posters_lst.csv',\n",
       " 'lakers_posters_lst.csv',\n",
       " 'tipofmytongue_posters_lst.csv',\n",
       " 'opieandanthony_posters_lst.csv',\n",
       " 'oneliners_posters_lst.csv',\n",
       " 'dankmemes_posters_lst.csv',\n",
       " 'AntiJokes_posters_lst.csv',\n",
       " 'sex_posters_lst.csv',\n",
       " 'streetwear_posters_lst.csv',\n",
       " 'travel_posters_lst.csv',\n",
       " 'timberwolves_posters_lst.csv',\n",
       " 'MaddenUltimateTeam_posters_lst.csv',\n",
       " 'findareddit_posters_lst.csv',\n",
       " 'Android_posters_lst.csv',\n",
       " 'darkjokes_posters_lst.csv',\n",
       " 'stalker_posters_lst.csv',\n",
       " 'shittyaskscience_posters_lst.csv',\n",
       " 'baseball_posters_lst.csv',\n",
       " 'FIFA_posters_lst.csv',\n",
       " 'DoesAnybodyElse_posters_lst.csv',\n",
       " 'science_posters_lst.csv',\n",
       " 'NBA2kTeamUp_posters_lst.csv',\n",
       " 'EverythingScience_posters_lst.csv',\n",
       " 'india_posters_lst.csv',\n",
       " 'web_design_posters_lst.csv',\n",
       " 'aww_posters_lst.csv',\n",
       " 'DiepioPartyLinks_posters_lst.csv',\n",
       " 'minnesotavikings_posters_lst.csv',\n",
       " 'SuicideWatch_posters_lst.csv',\n",
       " 'askscience_posters_lst.csv',\n",
       " 'Jokes_posters_lst.csv',\n",
       " 'Showerthoughts_posters_lst.csv',\n",
       " 'europe_posters_lst.csv',\n",
       " 'IndianFootball_posters_lst.csv',\n",
       " 'bangalore_posters_lst.csv',\n",
       " 'borrow_posters_lst.csv',\n",
       " 'Advice_posters_lst.csv',\n",
       " 'Louisville_posters_lst.csv',\n",
       " 'BlackPeopleTwitter_posters_lst.csv',\n",
       " 'Cumtown_posters_lst.csv',\n",
       " 'ShittyLifeProTips_posters_lst.csv',\n",
       " 'GDmaze_posters_lst.csv',\n",
       " 'Fireteams_posters_lst.csv',\n",
       " 'Fantasy_Football_posters_lst.csv',\n",
       " 'Drugs_posters_lst.csv',\n",
       " 'TwoXChromosomes_posters_lst.csv',\n",
       " 'ukpolitics_posters_lst.csv',\n",
       " 'Standup_posters_lst.csv',\n",
       " 'Rainbow6_posters_lst.csv',\n",
       " 'MMA_posters_lst.csv',\n",
       " 'nbaleaguesim2019_posters_lst.csv',\n",
       " 'news_posters_lst.csv']"
      ]
     },
     "execution_count": 34,
     "metadata": {},
     "output_type": "execute_result"
    }
   ],
   "source": [
    "from os import listdir\n",
    "from os.path import isfile, join\n",
    "mypath='./data/posters/'\n",
    "onlyfiles = [f for f in listdir(mypath) if isfile(join(mypath, f))]\n",
    "onlyfiles\n"
   ]
  },
  {
   "cell_type": "code",
   "execution_count": 35,
   "metadata": {},
   "outputs": [],
   "source": [
    "str_srch = r'^(.+?)_posters_lst.csv'\n",
    "of = [re.findall(str_srch,i) for i in onlyfiles]"
   ]
  },
  {
   "cell_type": "code",
   "execution_count": 36,
   "metadata": {
    "scrolled": true
   },
   "outputs": [
    {
     "data": {
      "text/plain": [
       "[['morbidquestions'],\n",
       " ['gadgets'],\n",
       " ['dirtykikpals'],\n",
       " ['PoliticalHumor'],\n",
       " ['funny'],\n",
       " ['WTF'],\n",
       " ['europeanunion'],\n",
       " ['answers'],\n",
       " ['florida'],\n",
       " ['healthcare'],\n",
       " ['newzealand'],\n",
       " ['The_Donald'],\n",
       " ['reddevils'],\n",
       " ['fantasyfootball'],\n",
       " ['The_Mueller'],\n",
       " ['movies'],\n",
       " ['Juve'],\n",
       " ['AskHistorians'],\n",
       " ['OrlandoMagic'],\n",
       " ['hiphopheads'],\n",
       " ['NoStupidQuestions'],\n",
       " ['quotes'],\n",
       " ['nfl'],\n",
       " ['television'],\n",
       " ['dadjokes'],\n",
       " ['gaming'],\n",
       " ['AskOuija'],\n",
       " ['pics'],\n",
       " ['Romania'],\n",
       " ['CrazyIdeas'],\n",
       " ['teenagers'],\n",
       " ['nottheonion'],\n",
       " ['hiphop'],\n",
       " ['legaladvice'],\n",
       " ['NBAlive'],\n",
       " ['DnD'],\n",
       " ['bakchodi'],\n",
       " ['de'],\n",
       " ['soccer'],\n",
       " ['GameLive_0n'],\n",
       " ['nba'],\n",
       " ['personalfinance'],\n",
       " ['LiverpoolFC'],\n",
       " ['unpopularopinion'],\n",
       " ['smashbros'],\n",
       " ['yankees'],\n",
       " ['SandersForPresident'],\n",
       " ['listentothis'],\n",
       " ['Music'],\n",
       " ['worldnews'],\n",
       " ['politics'],\n",
       " ['FortNiteBR'],\n",
       " ['RandomThoughts'],\n",
       " ['u_Autotradenews'],\n",
       " ['space'],\n",
       " ['BlueMidterm2018'],\n",
       " ['DunkNation3x3'],\n",
       " ['NBA2k'],\n",
       " ['SquaredCircle'],\n",
       " ['IRstudies'],\n",
       " ['technology'],\n",
       " ['tmobile'],\n",
       " ['Boxing'],\n",
       " ['leagueoflegends'],\n",
       " ['mildlyinteresting'],\n",
       " ['relationships'],\n",
       " ['LifeProTips'],\n",
       " ['Kanye'],\n",
       " ['WritingPrompts'],\n",
       " ['todayilearned'],\n",
       " ['AskWomen'],\n",
       " ['Psychonaut'],\n",
       " ['Eminem'],\n",
       " ['privacy'],\n",
       " ['hmmm'],\n",
       " ['videos'],\n",
       " ['Futurology'],\n",
       " ['explainlikeimfive'],\n",
       " ['AskReddit'],\n",
       " ['LSAT'],\n",
       " ['DotA2'],\n",
       " ['apple'],\n",
       " ['Health'],\n",
       " ['marvelstudios'],\n",
       " ['TooAfraidToAsk'],\n",
       " ['AskEurope'],\n",
       " ['tech'],\n",
       " ['lakers'],\n",
       " ['tipofmytongue'],\n",
       " ['opieandanthony'],\n",
       " ['oneliners'],\n",
       " ['dankmemes'],\n",
       " ['AntiJokes'],\n",
       " ['sex'],\n",
       " ['streetwear'],\n",
       " ['travel'],\n",
       " ['timberwolves'],\n",
       " ['MaddenUltimateTeam'],\n",
       " ['findareddit'],\n",
       " ['Android'],\n",
       " ['darkjokes'],\n",
       " ['stalker'],\n",
       " ['shittyaskscience'],\n",
       " ['baseball'],\n",
       " ['FIFA'],\n",
       " ['DoesAnybodyElse'],\n",
       " ['science'],\n",
       " ['NBA2kTeamUp'],\n",
       " ['EverythingScience'],\n",
       " ['india'],\n",
       " ['web_design'],\n",
       " ['aww'],\n",
       " ['DiepioPartyLinks'],\n",
       " ['minnesotavikings'],\n",
       " ['SuicideWatch'],\n",
       " ['askscience'],\n",
       " ['Jokes'],\n",
       " ['Showerthoughts'],\n",
       " ['europe'],\n",
       " ['IndianFootball'],\n",
       " ['bangalore'],\n",
       " ['borrow'],\n",
       " ['Advice'],\n",
       " ['Louisville'],\n",
       " ['BlackPeopleTwitter'],\n",
       " ['Cumtown'],\n",
       " ['ShittyLifeProTips'],\n",
       " ['GDmaze'],\n",
       " ['Fireteams'],\n",
       " ['Fantasy_Football'],\n",
       " ['Drugs'],\n",
       " ['TwoXChromosomes'],\n",
       " ['ukpolitics'],\n",
       " ['Standup'],\n",
       " ['Rainbow6'],\n",
       " ['MMA'],\n",
       " ['nbaleaguesim2019'],\n",
       " ['news']]"
      ]
     },
     "execution_count": 36,
     "metadata": {},
     "output_type": "execute_result"
    }
   ],
   "source": [
    "of\n",
    "    "
   ]
  },
  {
   "cell_type": "code",
   "execution_count": 61,
   "metadata": {},
   "outputs": [],
   "source": [
    "df = pd.DataFrame(columns=['subreddits','og_subreddit'])"
   ]
  },
  {
   "cell_type": "code",
   "execution_count": 63,
   "metadata": {},
   "outputs": [
    {
     "data": {
      "text/plain": [
       "0"
      ]
     },
     "execution_count": 63,
     "metadata": {},
     "output_type": "execute_result"
    }
   ],
   "source": [
    "df.shape[0]"
   ]
  },
  {
   "cell_type": "code",
   "execution_count": 65,
   "metadata": {
    "scrolled": true
   },
   "outputs": [],
   "source": [
    "for i in onlyfiles:\n",
    "    temp = pd.read_csv('./data/posters/{}'.format(i))\n",
    "    temp['og_subreddit'] = re.findall(str_srch,i)[0]\n",
    "    if df.shape[0] == 0:\n",
    "        df = temp.copy()\n",
    "    else:\n",
    "        df=pd.concat([df,temp])\n"
   ]
  },
  {
   "cell_type": "code",
   "execution_count": 66,
   "metadata": {},
   "outputs": [
    {
     "data": {
      "text/plain": [
       "(379826, 2)"
      ]
     },
     "execution_count": 66,
     "metadata": {},
     "output_type": "execute_result"
    }
   ],
   "source": [
    "df.shape"
   ]
  },
  {
   "cell_type": "code",
   "execution_count": 40,
   "metadata": {},
   "outputs": [],
   "source": [
    "df.to_csv('./data/final_db.csv',index=False)"
   ]
  },
  {
   "cell_type": "code",
   "execution_count": 41,
   "metadata": {},
   "outputs": [
    {
     "data": {
      "text/html": [
       "<div>\n",
       "<style scoped>\n",
       "    .dataframe tbody tr th:only-of-type {\n",
       "        vertical-align: middle;\n",
       "    }\n",
       "\n",
       "    .dataframe tbody tr th {\n",
       "        vertical-align: top;\n",
       "    }\n",
       "\n",
       "    .dataframe thead th {\n",
       "        text-align: right;\n",
       "    }\n",
       "</style>\n",
       "<table border=\"1\" class=\"dataframe\">\n",
       "  <thead>\n",
       "    <tr style=\"text-align: right;\">\n",
       "      <th></th>\n",
       "      <th>b_subreddit</th>\n",
       "      <th>p_subreddit</th>\n",
       "    </tr>\n",
       "  </thead>\n",
       "  <tbody>\n",
       "  </tbody>\n",
       "</table>\n",
       "</div>"
      ],
      "text/plain": [
       "Empty DataFrame\n",
       "Columns: [b_subreddit, p_subreddit]\n",
       "Index: []"
      ]
     },
     "execution_count": 41,
     "metadata": {},
     "output_type": "execute_result"
    }
   ],
   "source": [
    "df"
   ]
  },
  {
   "cell_type": "code",
   "execution_count": null,
   "metadata": {},
   "outputs": [],
   "source": []
  }
 ],
 "metadata": {
  "kernelspec": {
   "display_name": "Python 3",
   "language": "python",
   "name": "python3"
  },
  "language_info": {
   "codemirror_mode": {
    "name": "ipython",
    "version": 3
   },
   "file_extension": ".py",
   "mimetype": "text/x-python",
   "name": "python",
   "nbconvert_exporter": "python",
   "pygments_lexer": "ipython3",
   "version": "3.6.5"
  }
 },
 "nbformat": 4,
 "nbformat_minor": 2
}
