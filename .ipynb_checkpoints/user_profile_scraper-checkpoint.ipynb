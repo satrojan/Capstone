{
 "cells": [
  {
   "cell_type": "code",
   "execution_count": 1,
   "metadata": {},
   "outputs": [],
   "source": [
    "import numpy as np\n",
    "import pandas as pd\n",
    "import requests\n",
    "import json"
   ]
  },
  {
   "cell_type": "code",
   "execution_count": 2,
   "metadata": {},
   "outputs": [],
   "source": [
    "subreddit = pd.read_csv('./workfile.csv')"
   ]
  },
  {
   "cell_type": "code",
   "execution_count": 5,
   "metadata": {},
   "outputs": [
    {
     "data": {
      "text/plain": [
       "'AskOuija'"
      ]
     },
     "execution_count": 5,
     "metadata": {},
     "output_type": "execute_result"
    }
   ],
   "source": [
    "subreddit.sub_name.values[0]"
   ]
  },
  {
   "cell_type": "code",
   "execution_count": 8,
   "metadata": {},
   "outputs": [],
   "source": [
    "df_sub = pd.read_csv('./data/{}_final.csv'.format(subreddit.sub_name.values[0]))"
   ]
  },
  {
   "cell_type": "code",
   "execution_count": 11,
   "metadata": {},
   "outputs": [
    {
     "data": {
      "text/html": [
       "<div>\n",
       "<style scoped>\n",
       "    .dataframe tbody tr th:only-of-type {\n",
       "        vertical-align: middle;\n",
       "    }\n",
       "\n",
       "    .dataframe tbody tr th {\n",
       "        vertical-align: top;\n",
       "    }\n",
       "\n",
       "    .dataframe thead th {\n",
       "        text-align: right;\n",
       "    }\n",
       "</style>\n",
       "<table border=\"1\" class=\"dataframe\">\n",
       "  <thead>\n",
       "    <tr style=\"text-align: right;\">\n",
       "      <th></th>\n",
       "      <th>Unnamed: 0</th>\n",
       "      <th>author</th>\n",
       "      <th>comments_author_lst</th>\n",
       "      <th>comments_score_lst</th>\n",
       "      <th>created_utc</th>\n",
       "      <th>guilded</th>\n",
       "      <th>num_comments</th>\n",
       "      <th>pinned</th>\n",
       "      <th>r_id</th>\n",
       "      <th>score</th>\n",
       "      <th>subreddit</th>\n",
       "      <th>title</th>\n",
       "    </tr>\n",
       "  </thead>\n",
       "  <tbody>\n",
       "    <tr>\n",
       "      <th>0</th>\n",
       "      <td>0</td>\n",
       "      <td>tacobellscannon</td>\n",
       "      <td>['The-Legend-26', 'pants_on_fire_again']</td>\n",
       "      <td>[2257, 378]</td>\n",
       "      <td>1.492971e+09</td>\n",
       "      <td>0</td>\n",
       "      <td>208</td>\n",
       "      <td>False</td>\n",
       "      <td>673qgu</td>\n",
       "      <td>2269</td>\n",
       "      <td>AskOuija</td>\n",
       "      <td>Please read the rules before posting!</td>\n",
       "    </tr>\n",
       "    <tr>\n",
       "      <th>1</th>\n",
       "      <td>1</td>\n",
       "      <td>howcomechiefwhatever</td>\n",
       "      <td>['AlwaysStatesObvious']</td>\n",
       "      <td>[1306]</td>\n",
       "      <td>1.538269e+09</td>\n",
       "      <td>0</td>\n",
       "      <td>256</td>\n",
       "      <td>False</td>\n",
       "      <td>9k25eu</td>\n",
       "      <td>2525</td>\n",
       "      <td>AskOuija</td>\n",
       "      <td>A Guy Proposed To A Girl I Had Crush On And Sh...</td>\n",
       "    </tr>\n",
       "    <tr>\n",
       "      <th>2</th>\n",
       "      <td>2</td>\n",
       "      <td>MysteriousDreamz</td>\n",
       "      <td>['icy_juggler']</td>\n",
       "      <td>[194]</td>\n",
       "      <td>1.538275e+09</td>\n",
       "      <td>0</td>\n",
       "      <td>111</td>\n",
       "      <td>False</td>\n",
       "      <td>9k2q68</td>\n",
       "      <td>708</td>\n",
       "      <td>AskOuija</td>\n",
       "      <td>Fuck me in the ass with a ______.</td>\n",
       "    </tr>\n",
       "    <tr>\n",
       "      <th>3</th>\n",
       "      <td>3</td>\n",
       "      <td>_EyeCon_</td>\n",
       "      <td>['3174N_7H3_M4N', 'i-JPP']</td>\n",
       "      <td>[2174, 859]</td>\n",
       "      <td>1.538216e+09</td>\n",
       "      <td>0</td>\n",
       "      <td>584</td>\n",
       "      <td>False</td>\n",
       "      <td>9jvep3</td>\n",
       "      <td>7123</td>\n",
       "      <td>AskOuija</td>\n",
       "      <td>To punish my children, i take away their _____</td>\n",
       "    </tr>\n",
       "    <tr>\n",
       "      <th>4</th>\n",
       "      <td>4</td>\n",
       "      <td>SoldadoTrifaldon</td>\n",
       "      <td>['I_Cheer_Weird_Things']</td>\n",
       "      <td>[86]</td>\n",
       "      <td>1.538257e+09</td>\n",
       "      <td>0</td>\n",
       "      <td>80</td>\n",
       "      <td>False</td>\n",
       "      <td>9k0sb9</td>\n",
       "      <td>330</td>\n",
       "      <td>AskOuija</td>\n",
       "      <td>What should I name my band?</td>\n",
       "    </tr>\n",
       "  </tbody>\n",
       "</table>\n",
       "</div>"
      ],
      "text/plain": [
       "   Unnamed: 0                author                       comments_author_lst  \\\n",
       "0           0       tacobellscannon  ['The-Legend-26', 'pants_on_fire_again']   \n",
       "1           1  howcomechiefwhatever                   ['AlwaysStatesObvious']   \n",
       "2           2      MysteriousDreamz                           ['icy_juggler']   \n",
       "3           3              _EyeCon_                ['3174N_7H3_M4N', 'i-JPP']   \n",
       "4           4      SoldadoTrifaldon                  ['I_Cheer_Weird_Things']   \n",
       "\n",
       "  comments_score_lst   created_utc  guilded  num_comments  pinned    r_id  \\\n",
       "0        [2257, 378]  1.492971e+09        0           208   False  673qgu   \n",
       "1             [1306]  1.538269e+09        0           256   False  9k25eu   \n",
       "2              [194]  1.538275e+09        0           111   False  9k2q68   \n",
       "3        [2174, 859]  1.538216e+09        0           584   False  9jvep3   \n",
       "4               [86]  1.538257e+09        0            80   False  9k0sb9   \n",
       "\n",
       "   score subreddit                                              title  \n",
       "0   2269  AskOuija              Please read the rules before posting!  \n",
       "1   2525  AskOuija  A Guy Proposed To A Girl I Had Crush On And Sh...  \n",
       "2    708  AskOuija                  Fuck me in the ass with a ______.  \n",
       "3   7123  AskOuija     To punish my children, i take away their _____  \n",
       "4    330  AskOuija                        What should I name my band?  "
      ]
     },
     "execution_count": 11,
     "metadata": {},
     "output_type": "execute_result"
    }
   ],
   "source": [
    "df_sub.head()"
   ]
  },
  {
   "cell_type": "code",
   "execution_count": 10,
   "metadata": {},
   "outputs": [
    {
     "data": {
      "text/plain": [
       "(4800, 12)"
      ]
     },
     "execution_count": 10,
     "metadata": {},
     "output_type": "execute_result"
    }
   ],
   "source": [
    "df_sub.shape"
   ]
  },
  {
   "cell_type": "code",
   "execution_count": 15,
   "metadata": {},
   "outputs": [],
   "source": [
    "df_sub.drop_duplicates('author',inplace=True)"
   ]
  },
  {
   "cell_type": "code",
   "execution_count": 36,
   "metadata": {},
   "outputs": [],
   "source": [
    "auth_lst=df_sub.author.values"
   ]
  },
  {
   "cell_type": "code",
   "execution_count": 37,
   "metadata": {},
   "outputs": [
    {
     "data": {
      "text/plain": [
       "1518"
      ]
     },
     "execution_count": 37,
     "metadata": {},
     "output_type": "execute_result"
    }
   ],
   "source": [
    "len(auth_lst)"
   ]
  },
  {
   "cell_type": "code",
   "execution_count": null,
   "metadata": {},
   "outputs": [],
   "source": [
    "sub_lst = []\n",
    "for i in auth_lst:\n",
    "    json_link  = 'https://www.reddit.com/user/{}/.json'.format(i)\n",
    "    res = requests.get(json_link, headers={'User-agent': 'Capstone Bot 0.1'})\n",
    "    data = res.json()\n",
    "    try:\n",
    "        df=pd.DataFrame(data)\n",
    "        try:\n",
    "            df=pd.DataFrame(df.T.children[1])\n",
    "        except:\n",
    "            continue\n",
    "        for i in range(24):\n",
    "            if len(df.data[i])==92:\n",
    "                sub_lst.append(df.data[i]['subreddit'])\n",
    "        print(sub_lst[-1])\n",
    "    except: \n",
    "        continue\n",
    "        \n",
    "    "
   ]
  },
  {
   "cell_type": "code",
   "execution_count": null,
   "metadata": {},
   "outputs": [],
   "source": []
  },
  {
   "cell_type": "code",
   "execution_count": null,
   "metadata": {},
   "outputs": [],
   "source": []
  },
  {
   "cell_type": "code",
   "execution_count": 18,
   "metadata": {},
   "outputs": [],
   "source": [
    "json_link  = 'https://www.reddit.com/user/YoungSandwich18/.json'"
   ]
  },
  {
   "cell_type": "code",
   "execution_count": 19,
   "metadata": {},
   "outputs": [],
   "source": [
    "res = requests.get(json_link, headers={'User-agent': 'Capstone Bot 0.1'})"
   ]
  },
  {
   "cell_type": "code",
   "execution_count": 20,
   "metadata": {},
   "outputs": [],
   "source": [
    "data = res.json()"
   ]
  },
  {
   "cell_type": "code",
   "execution_count": 21,
   "metadata": {},
   "outputs": [],
   "source": [
    "df=pd.DataFrame(data)"
   ]
  },
  {
   "cell_type": "code",
   "execution_count": 27,
   "metadata": {},
   "outputs": [
    {
     "ename": "AttributeError",
     "evalue": "'list' object has no attribute 'data'",
     "output_type": "error",
     "traceback": [
      "\u001b[0;31m---------------------------------------------------------------------------\u001b[0m",
      "\u001b[0;31mAttributeError\u001b[0m                            Traceback (most recent call last)",
      "\u001b[0;32m<ipython-input-27-70373039ec4f>\u001b[0m in \u001b[0;36m<module>\u001b[0;34m\u001b[0m\n\u001b[0;32m----> 1\u001b[0;31m \u001b[0mdf\u001b[0m\u001b[0;34m.\u001b[0m\u001b[0mT\u001b[0m\u001b[0;34m.\u001b[0m\u001b[0mchildren\u001b[0m\u001b[0;34m[\u001b[0m\u001b[0;36m1\u001b[0m\u001b[0;34m]\u001b[0m\u001b[0;34m.\u001b[0m\u001b[0mdata\u001b[0m\u001b[0;34m\u001b[0m\u001b[0m\n\u001b[0m",
      "\u001b[0;31mAttributeError\u001b[0m: 'list' object has no attribute 'data'"
     ]
    }
   ],
   "source": [
    "df.T.children[1]"
   ]
  },
  {
   "cell_type": "code",
   "execution_count": null,
   "metadata": {},
   "outputs": [],
   "source": []
  },
  {
   "cell_type": "code",
   "execution_count": 28,
   "metadata": {},
   "outputs": [],
   "source": [
    "df = pd.DataFrame(df.T.children[1])"
   ]
  },
  {
   "cell_type": "code",
   "execution_count": 32,
   "metadata": {},
   "outputs": [
    {
     "data": {
      "text/plain": [
       "'Badfaketexts'"
      ]
     },
     "execution_count": 32,
     "metadata": {},
     "output_type": "execute_result"
    }
   ],
   "source": [
    "df.data[0]['subreddit']"
   ]
  },
  {
   "cell_type": "code",
   "execution_count": null,
   "metadata": {},
   "outputs": [],
   "source": []
  },
  {
   "cell_type": "code",
   "execution_count": 29,
   "metadata": {},
   "outputs": [
    {
     "data": {
      "text/plain": [
       "94"
      ]
     },
     "execution_count": 29,
     "metadata": {},
     "output_type": "execute_result"
    }
   ],
   "source": [
    "len(df.data[0])"
   ]
  },
  {
   "cell_type": "code",
   "execution_count": 84,
   "metadata": {},
   "outputs": [
    {
     "data": {
      "text/plain": [
       "92"
      ]
     },
     "execution_count": 84,
     "metadata": {},
     "output_type": "execute_result"
    }
   ],
   "source": [
    "len(df.data[24]) #max is 24"
   ]
  },
  {
   "cell_type": "code",
   "execution_count": null,
   "metadata": {},
   "outputs": [],
   "source": []
  }
 ],
 "metadata": {
  "kernelspec": {
   "display_name": "Python 3",
   "language": "python",
   "name": "python3"
  },
  "language_info": {
   "codemirror_mode": {
    "name": "ipython",
    "version": 3
   },
   "file_extension": ".py",
   "mimetype": "text/x-python",
   "name": "python",
   "nbconvert_exporter": "python",
   "pygments_lexer": "ipython3",
   "version": "3.6.5"
  }
 },
 "nbformat": 4,
 "nbformat_minor": 2
}
