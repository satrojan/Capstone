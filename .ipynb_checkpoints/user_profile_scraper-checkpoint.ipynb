{
 "cells": [
  {
   "cell_type": "code",
   "execution_count": 1,
   "metadata": {},
   "outputs": [],
   "source": [
    "import numpy as np\n",
    "import pandas as pd\n",
    "import requests\n",
    "import json"
   ]
  },
  {
   "cell_type": "code",
   "execution_count": 2,
   "metadata": {},
   "outputs": [],
   "source": [
    "subreddit = pd.read_csv('./workfile.csv')"
   ]
  },
  {
   "cell_type": "code",
   "execution_count": 3,
   "metadata": {
    "scrolled": true
   },
   "outputs": [
    {
     "data": {
      "text/plain": [
       "'yankees'"
      ]
     },
     "execution_count": 3,
     "metadata": {},
     "output_type": "execute_result"
    }
   ],
   "source": [
    "subreddit.sub_name.values[25]"
   ]
  },
  {
   "cell_type": "code",
   "execution_count": 4,
   "metadata": {},
   "outputs": [],
   "source": [
    "df_sub = pd.read_csv('./data/{}_final.csv'.format(subreddit.sub_name.values[25]))"
   ]
  },
  {
   "cell_type": "code",
   "execution_count": 5,
   "metadata": {},
   "outputs": [
    {
     "data": {
      "text/html": [
       "<div>\n",
       "<style scoped>\n",
       "    .dataframe tbody tr th:only-of-type {\n",
       "        vertical-align: middle;\n",
       "    }\n",
       "\n",
       "    .dataframe tbody tr th {\n",
       "        vertical-align: top;\n",
       "    }\n",
       "\n",
       "    .dataframe thead th {\n",
       "        text-align: right;\n",
       "    }\n",
       "</style>\n",
       "<table border=\"1\" class=\"dataframe\">\n",
       "  <thead>\n",
       "    <tr style=\"text-align: right;\">\n",
       "      <th></th>\n",
       "      <th>Unnamed: 0</th>\n",
       "      <th>author</th>\n",
       "      <th>comments_author_lst</th>\n",
       "      <th>comments_score_lst</th>\n",
       "      <th>created_utc</th>\n",
       "      <th>guilded</th>\n",
       "      <th>num_comments</th>\n",
       "      <th>pinned</th>\n",
       "      <th>r_id</th>\n",
       "      <th>score</th>\n",
       "      <th>subreddit</th>\n",
       "      <th>title</th>\n",
       "    </tr>\n",
       "  </thead>\n",
       "  <tbody>\n",
       "    <tr>\n",
       "      <th>0</th>\n",
       "      <td>0</td>\n",
       "      <td>imonlyhereforsports</td>\n",
       "      <td>[]</td>\n",
       "      <td>[]</td>\n",
       "      <td>1.538261e+09</td>\n",
       "      <td>0</td>\n",
       "      <td>4</td>\n",
       "      <td>False</td>\n",
       "      <td>9k179b</td>\n",
       "      <td>31</td>\n",
       "      <td>yankees</td>\n",
       "      <td>Thumbs down guy spotted</td>\n",
       "    </tr>\n",
       "    <tr>\n",
       "      <th>1</th>\n",
       "      <td>1</td>\n",
       "      <td>blu3sclu3s</td>\n",
       "      <td>['PorzingisIsGod', 'BanterCityPodcast']</td>\n",
       "      <td>[18, 8]</td>\n",
       "      <td>1.538155e+09</td>\n",
       "      <td>0</td>\n",
       "      <td>25</td>\n",
       "      <td>False</td>\n",
       "      <td>9jouru</td>\n",
       "      <td>160</td>\n",
       "      <td>yankees</td>\n",
       "      <td>Shirt I whipped up to wear to the Wild Card ga...</td>\n",
       "    </tr>\n",
       "    <tr>\n",
       "      <th>2</th>\n",
       "      <td>2</td>\n",
       "      <td>westonroadflowss</td>\n",
       "      <td>[]</td>\n",
       "      <td>[]</td>\n",
       "      <td>1.538186e+09</td>\n",
       "      <td>0</td>\n",
       "      <td>1</td>\n",
       "      <td>False</td>\n",
       "      <td>9jsvy1</td>\n",
       "      <td>2</td>\n",
       "      <td>yankees</td>\n",
       "      <td>Why does Michael keep getting pissed about the...</td>\n",
       "    </tr>\n",
       "    <tr>\n",
       "      <th>3</th>\n",
       "      <td>3</td>\n",
       "      <td>krese</td>\n",
       "      <td>[]</td>\n",
       "      <td>[]</td>\n",
       "      <td>1.538181e+09</td>\n",
       "      <td>0</td>\n",
       "      <td>1</td>\n",
       "      <td>False</td>\n",
       "      <td>9jsb7l</td>\n",
       "      <td>1</td>\n",
       "      <td>yankees</td>\n",
       "      <td>boston should play hard this weekend with best...</td>\n",
       "    </tr>\n",
       "    <tr>\n",
       "      <th>4</th>\n",
       "      <td>4</td>\n",
       "      <td>NYRangers1313</td>\n",
       "      <td>['Sun-Devil4646']</td>\n",
       "      <td>[8]</td>\n",
       "      <td>1.538090e+09</td>\n",
       "      <td>0</td>\n",
       "      <td>3</td>\n",
       "      <td>False</td>\n",
       "      <td>9jhsjz</td>\n",
       "      <td>61</td>\n",
       "      <td>yankees</td>\n",
       "      <td>My shitpost of the day. My CC Sabathia Banepos...</td>\n",
       "    </tr>\n",
       "  </tbody>\n",
       "</table>\n",
       "</div>"
      ],
      "text/plain": [
       "   Unnamed: 0               author                      comments_author_lst  \\\n",
       "0           0  imonlyhereforsports                                       []   \n",
       "1           1           blu3sclu3s  ['PorzingisIsGod', 'BanterCityPodcast']   \n",
       "2           2     westonroadflowss                                       []   \n",
       "3           3                krese                                       []   \n",
       "4           4        NYRangers1313                        ['Sun-Devil4646']   \n",
       "\n",
       "  comments_score_lst   created_utc  guilded  num_comments  pinned    r_id  \\\n",
       "0                 []  1.538261e+09        0             4   False  9k179b   \n",
       "1            [18, 8]  1.538155e+09        0            25   False  9jouru   \n",
       "2                 []  1.538186e+09        0             1   False  9jsvy1   \n",
       "3                 []  1.538181e+09        0             1   False  9jsb7l   \n",
       "4                [8]  1.538090e+09        0             3   False  9jhsjz   \n",
       "\n",
       "   score subreddit                                              title  \n",
       "0     31   yankees                            Thumbs down guy spotted  \n",
       "1    160   yankees  Shirt I whipped up to wear to the Wild Card ga...  \n",
       "2      2   yankees  Why does Michael keep getting pissed about the...  \n",
       "3      1   yankees  boston should play hard this weekend with best...  \n",
       "4     61   yankees  My shitpost of the day. My CC Sabathia Banepos...  "
      ]
     },
     "execution_count": 5,
     "metadata": {},
     "output_type": "execute_result"
    }
   ],
   "source": [
    "df_sub.head()"
   ]
  },
  {
   "cell_type": "code",
   "execution_count": 6,
   "metadata": {},
   "outputs": [
    {
     "data": {
      "text/plain": [
       "(4800, 12)"
      ]
     },
     "execution_count": 6,
     "metadata": {},
     "output_type": "execute_result"
    }
   ],
   "source": [
    "df_sub.shape"
   ]
  },
  {
   "cell_type": "code",
   "execution_count": 7,
   "metadata": {},
   "outputs": [],
   "source": [
    "df_sub.drop_duplicates('author',inplace=True)"
   ]
  },
  {
   "cell_type": "code",
   "execution_count": 8,
   "metadata": {},
   "outputs": [],
   "source": [
    "auth_lst=df_sub.author.values"
   ]
  },
  {
   "cell_type": "code",
   "execution_count": 9,
   "metadata": {},
   "outputs": [
    {
     "data": {
      "text/plain": [
       "242"
      ]
     },
     "execution_count": 9,
     "metadata": {},
     "output_type": "execute_result"
    }
   ],
   "source": [
    "len(auth_lst)"
   ]
  },
  {
   "cell_type": "markdown",
   "metadata": {},
   "source": [
    "- AskOuija start 4800 end 1580\n",
    "- Futurology start 4800 end 126\n",
    "- GameLive_0n start 4800 end 1\n",
    "- Jokes start 4800 end 875\n",
    "- NBA2k start 4800 end 961\n",
    "- NoStupidQuestions start 4800 end 1801\n",
    "- PoliticalHumor start 4800 end 638\n",
    "- Showerthoughts start 4800 end 1881\n",
    "- TwoXChromosomes start 4800 end 534\n",
    "- europe starst 4800 end 393\n",
    "- explainlikeimfive starts 4800 end 522\n",
    "- funny start 4800 end 1525\n",
    "- hiphopheads start 4800 end 702\n",
    "- india start 4800 end 444\n",
    "- lakers start 4800 end 264\n",
    "- news start 4800 end 226\n",
    "- nfl start 4800 end 443\n",
    "- nottheonion start 4800 end 225\n",
    "- opieandanthony start 4800 end 383\n",
    "- science start 4800 end 177\n",
    "- soccer start 4800 end 341\n",
    "- technology start 4800 end 251\n",
    "- timberwolves start 4800 end 270\n",
    "- todayilearned start 4800 end 536\n",
    "- videos start 4800 end 946\n",
    "- yankees start 4800 end 242"
   ]
  },
  {
   "cell_type": "code",
   "execution_count": 10,
   "metadata": {},
   "outputs": [
    {
     "name": "stdout",
     "output_type": "stream",
     "text": [
      "rangers\n",
      "k12sysadmin\n",
      "k12sysadmin\n",
      "k12sysadmin\n",
      "baseball\n",
      "NYYankees\n",
      "sto\n",
      "yankees\n",
      "OSHA\n",
      "GreenBayPackers\n",
      "DisneyWorldResorts\n",
      "DisneyWorldResorts\n",
      "AskReddit\n",
      "AskReddit\n",
      "MaddenUltimateTeam\n",
      "travisscott\n",
      "Blackops4\n",
      "NYYankees\n",
      "yankees\n",
      "yeezys\n",
      "yeezys\n",
      "yankees\n",
      "movies\n",
      "Rebelution\n",
      "yankees\n",
      "yankees\n",
      "yankees\n",
      "yankees\n",
      "diabetes_t1\n",
      "KidsAreFuckingStupid\n",
      "baseball\n",
      "The_Donald\n",
      "AskOuija\n",
      "listentothis\n",
      "AMCsAList\n",
      "Kanye\n",
      "fantasyfootball\n",
      "yankees\n",
      "yankees\n",
      "lgg6\n",
      "dankmemes\n",
      "oakland\n",
      "investing\n",
      "yankees\n",
      "yankees\n",
      "brockhampton\n",
      "videos\n",
      "juul\n",
      "Overwatch\n",
      "yankees\n",
      "yankees\n",
      "nba\n",
      "nba\n",
      "yankees\n",
      "WWEChampions\n",
      "WWEChampions\n",
      "nyjets\n",
      "Neuropsychology\n",
      "reactiongifs\n",
      "reactiongifs\n",
      "reactiongifs\n",
      "Denver\n",
      "Denver\n",
      "yankees\n",
      "yankees\n",
      "grandpajoehate\n",
      "Broadway\n",
      "AskReddit\n",
      "AskReddit\n",
      "BillyJoel\n",
      "whatisthisthing\n",
      "whatisthisthing\n",
      "AskReddit\n",
      "AskReddit\n",
      "CharlotteHornets\n",
      "FIFA\n",
      "yankees\n",
      "yankees\n",
      "Fitness\n",
      "redsox\n",
      "lockn\n",
      "Advice\n",
      "yankees\n",
      "yankees\n",
      "nycrail\n",
      "nycrail\n",
      "yankees\n",
      "gaming\n",
      "fantasybball\n",
      "marketing\n",
      "CompTIA\n",
      "sports\n",
      "PuertoRico\n",
      "BBQ\n",
      "BBQ\n",
      "EDM\n",
      "EDM\n",
      "yankees\n",
      "nba\n",
      "news\n",
      "pokemon\n",
      "SeaJobs\n",
      "Cooking\n",
      "Cooking\n",
      "yankees\n",
      "yankees\n",
      "yankees\n",
      "704nascarheat\n",
      "steelers\n",
      "Music\n",
      "Music\n",
      "Instagram\n",
      "Instagram\n",
      "hardwareswap\n",
      "KCRoyals\n",
      "ExplainAFilmPlotBadly\n",
      "AteTheOnion\n",
      "funkoswap\n",
      "yankees\n",
      "yankees\n",
      "WorldOfWarships\n",
      "quittingkratom\n",
      "yankees\n",
      "Plumbing\n",
      "itookapicture\n",
      "ketorecipes\n",
      "Fantasy_Football\n",
      "BeatTheStreak\n",
      "devils\n",
      "devils\n",
      "DB2\n",
      "DB2\n",
      "Voltron\n",
      "BritishTV\n",
      "sweden\n",
      "sweden\n",
      "NYYankees\n",
      "AndroidTV\n",
      "AndroidTV\n",
      "creepy\n",
      "creepy\n",
      "creepy\n",
      "Showerthoughts\n",
      "Showerthoughts\n",
      "CreditCards\n",
      "LaurenSearle\n",
      "FortNiteBR\n",
      "FortNiteBR\n",
      "NYYankees\n",
      "sweepstakes\n",
      "sweepstakes\n",
      "TeenMomOGandTeenMom2\n",
      "NYYankees\n",
      "news\n",
      "yankees\n",
      "yankees\n",
      "yankees\n",
      "yankees\n",
      "nba\n",
      "MilitaryFinance\n",
      "StarWars\n",
      "Gunners\n",
      "redsox\n",
      "NYYankees\n",
      "NYYankees\n",
      "barstoolsports\n",
      "realmadrid\n",
      "realmadrid\n",
      "CGMC_Market\n",
      "Libertarian\n",
      "yankees\n",
      "nfl\n",
      "nfl\n",
      "whatsthatbook\n",
      "AskOuija\n",
      "yankees\n",
      "analog\n",
      "yankees\n",
      "Chefit\n",
      "AskReddit\n",
      "Anxiety\n",
      "funkoswap\n",
      "funkoswap\n",
      "funkoswap\n",
      "funkoswap\n",
      "marvelstudios\n",
      "whowouldwin\n",
      "NYYankees\n",
      "nba\n",
      "Showerthoughts\n",
      "phish\n",
      "yankees\n",
      "PrequelMemes\n",
      "PrequelMemes\n",
      "Jay_Z\n",
      "baseball\n",
      "baseball\n",
      "yankees\n",
      "Kremlingate\n"
     ]
    }
   ],
   "source": [
    "sub_lst = []\n",
    "for i in auth_lst:\n",
    "    json_link  = 'https://www.reddit.com/user/{}/.json'.format(i)\n",
    "    res = requests.get(json_link, headers={'User-agent': 'Capstone Bot 0.1'})\n",
    "    data = res.json()\n",
    "    try:\n",
    "        df=pd.DataFrame(data)\n",
    "        try:\n",
    "            df=pd.DataFrame(df.T.children[1])\n",
    "        except:\n",
    "            continue\n",
    "        for i in range(24):\n",
    "            if len(df.data[i])==92:\n",
    "                sub_lst.append(df.data[i]['subreddit'])\n",
    "        print(sub_lst[-1])\n",
    "    except: \n",
    "        continue\n",
    "        \n",
    "    "
   ]
  },
  {
   "cell_type": "code",
   "execution_count": 11,
   "metadata": {},
   "outputs": [],
   "source": [
    "df = pd.DataFrame({'subreddits':sub_lst})"
   ]
  },
  {
   "cell_type": "code",
   "execution_count": 12,
   "metadata": {},
   "outputs": [],
   "source": [
    "df.to_csv('./data/{}_posters_lst.csv'.format(subreddit.sub_name.values[25]),index=False)"
   ]
  },
  {
   "cell_type": "code",
   "execution_count": 13,
   "metadata": {},
   "outputs": [],
   "source": [
    "#json_link  = 'https://www.reddit.com/user/YoungSandwich18/.json'"
   ]
  },
  {
   "cell_type": "code",
   "execution_count": 14,
   "metadata": {},
   "outputs": [],
   "source": [
    "#res = requests.get(json_link, headers={'User-agent': 'Capstone Bot 0.1'})"
   ]
  },
  {
   "cell_type": "code",
   "execution_count": 15,
   "metadata": {},
   "outputs": [],
   "source": [
    "#data = res.json()"
   ]
  },
  {
   "cell_type": "code",
   "execution_count": 16,
   "metadata": {},
   "outputs": [],
   "source": [
    "#df=pd.DataFrame(data)"
   ]
  },
  {
   "cell_type": "code",
   "execution_count": 17,
   "metadata": {},
   "outputs": [],
   "source": [
    "#df.T.children[1]"
   ]
  },
  {
   "cell_type": "code",
   "execution_count": null,
   "metadata": {},
   "outputs": [],
   "source": []
  },
  {
   "cell_type": "code",
   "execution_count": 18,
   "metadata": {},
   "outputs": [],
   "source": [
    "#df = pd.DataFrame(df.T.children[1])"
   ]
  },
  {
   "cell_type": "code",
   "execution_count": 19,
   "metadata": {},
   "outputs": [],
   "source": [
    "#df.data[0]['subreddit']"
   ]
  },
  {
   "cell_type": "code",
   "execution_count": null,
   "metadata": {},
   "outputs": [],
   "source": []
  },
  {
   "cell_type": "code",
   "execution_count": 20,
   "metadata": {},
   "outputs": [],
   "source": [
    "#len(df.data[0])"
   ]
  },
  {
   "cell_type": "code",
   "execution_count": 21,
   "metadata": {},
   "outputs": [],
   "source": [
    "#len(df.data[25]) #max is 24"
   ]
  },
  {
   "cell_type": "code",
   "execution_count": null,
   "metadata": {},
   "outputs": [],
   "source": []
  }
 ],
 "metadata": {
  "kernelspec": {
   "display_name": "Python 3",
   "language": "python",
   "name": "python3"
  },
  "language_info": {
   "codemirror_mode": {
    "name": "ipython",
    "version": 3
   },
   "file_extension": ".py",
   "mimetype": "text/x-python",
   "name": "python",
   "nbconvert_exporter": "python",
   "pygments_lexer": "ipython3",
   "version": "3.6.5"
  }
 },
 "nbformat": 4,
 "nbformat_minor": 2
}
