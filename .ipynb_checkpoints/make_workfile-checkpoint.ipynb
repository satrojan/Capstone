{
 "cells": [
  {
   "cell_type": "code",
   "execution_count": 1,
   "metadata": {},
   "outputs": [],
   "source": [
    "import pandas as pd"
   ]
  },
  {
   "cell_type": "code",
   "execution_count": 5,
   "metadata": {},
   "outputs": [],
   "source": [
    "df = pd.DataFrame({'sub_name':['AskOuija',\n",
    "                              'Futurology',\n",
    "                              'GameLive_0n',\n",
    "                              'Jokes',\n",
    "                              'NBA2k',\n",
    "                              'NoStupidQuestions',\n",
    "                              'PoliticalHumor',\n",
    "                              'Showerthoughts',\n",
    "                              'TwoXChromosomes',\n",
    "                              'europe',\n",
    "                              'explainlikeimfive',\n",
    "                              'funny',\n",
    "                              'hiphopheads',\n",
    "                              'india',\n",
    "                              'lakers',\n",
    "                              'news',\n",
    "                              'nfl',\n",
    "                              'nottheonion',\n",
    "                              'opieandanthony',\n",
    "                              'science',\n",
    "                              'soccer',\n",
    "                              'technology_',\n",
    "                              'timberwolves',\n",
    "                              'todayilearned',\n",
    "                              'videos',\n",
    "                              'yankees']})"
   ]
  },
  {
   "cell_type": "code",
   "execution_count": 7,
   "metadata": {},
   "outputs": [],
   "source": [
    "df.to_csv('./workfile.csv',index=False)"
   ]
  },
  {
   "cell_type": "code",
   "execution_count": null,
   "metadata": {},
   "outputs": [],
   "source": []
  }
 ],
 "metadata": {
  "kernelspec": {
   "display_name": "Python 3",
   "language": "python",
   "name": "python3"
  },
  "language_info": {
   "codemirror_mode": {
    "name": "ipython",
    "version": 3
   },
   "file_extension": ".py",
   "mimetype": "text/x-python",
   "name": "python",
   "nbconvert_exporter": "python",
   "pygments_lexer": "ipython3",
   "version": "3.6.5"
  }
 },
 "nbformat": 4,
 "nbformat_minor": 2
}
