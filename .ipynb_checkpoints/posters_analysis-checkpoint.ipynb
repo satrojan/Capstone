{
 "cells": [
  {
   "cell_type": "code",
   "execution_count": 1,
   "metadata": {},
   "outputs": [],
   "source": [
    "import pandas as pd"
   ]
  },
  {
   "cell_type": "code",
   "execution_count": 20,
   "metadata": {},
   "outputs": [],
   "source": [
    "subreddit = 'worldnews'"
   ]
  },
  {
   "cell_type": "code",
   "execution_count": 21,
   "metadata": {},
   "outputs": [],
   "source": [
    "df = pd.read_csv('./data/{}_posters_lst.csv'.format(subreddit))"
   ]
  },
  {
   "cell_type": "code",
   "execution_count": 22,
   "metadata": {},
   "outputs": [
    {
     "data": {
      "text/html": [
       "<div>\n",
       "<style scoped>\n",
       "    .dataframe tbody tr th:only-of-type {\n",
       "        vertical-align: middle;\n",
       "    }\n",
       "\n",
       "    .dataframe tbody tr th {\n",
       "        vertical-align: top;\n",
       "    }\n",
       "\n",
       "    .dataframe thead th {\n",
       "        text-align: right;\n",
       "    }\n",
       "</style>\n",
       "<table border=\"1\" class=\"dataframe\">\n",
       "  <thead>\n",
       "    <tr style=\"text-align: right;\">\n",
       "      <th></th>\n",
       "      <th>subreddits</th>\n",
       "    </tr>\n",
       "  </thead>\n",
       "  <tbody>\n",
       "    <tr>\n",
       "      <th>0</th>\n",
       "      <td>r/worldnews</td>\n",
       "    </tr>\n",
       "    <tr>\n",
       "      <th>1</th>\n",
       "      <td>r/worldnews</td>\n",
       "    </tr>\n",
       "    <tr>\n",
       "      <th>2</th>\n",
       "      <td>r/europe</td>\n",
       "    </tr>\n",
       "    <tr>\n",
       "      <th>3</th>\n",
       "      <td>r/nfl</td>\n",
       "    </tr>\n",
       "    <tr>\n",
       "      <th>4</th>\n",
       "      <td>r/btd6</td>\n",
       "    </tr>\n",
       "  </tbody>\n",
       "</table>\n",
       "</div>"
      ],
      "text/plain": [
       "    subreddits\n",
       "0  r/worldnews\n",
       "1  r/worldnews\n",
       "2     r/europe\n",
       "3        r/nfl\n",
       "4       r/btd6"
      ]
     },
     "execution_count": 22,
     "metadata": {},
     "output_type": "execute_result"
    }
   ],
   "source": [
    "df.head()"
   ]
  },
  {
   "cell_type": "code",
   "execution_count": 23,
   "metadata": {},
   "outputs": [
    {
     "data": {
      "text/plain": [
       "r/worldnews               304\n",
       "r/AskReddit               101\n",
       "r/politics                 99\n",
       "r/news                     98\n",
       "r/india                    38\n",
       "r/technology               27\n",
       "r/videos                   19\n",
       "r/Showerthoughts           14\n",
       "r/funny                    14\n",
       "r/todayilearned            12\n",
       "r/TwoXChromosomes           9\n",
       "r/europe                    9\n",
       "r/Futurology                8\n",
       "r/science                   7\n",
       "r/Health                    6\n",
       "r/geopolitics               6\n",
       "r/australia                 6\n",
       "r/savedyouaclick            6\n",
       "r/EverythingScience         6\n",
       "r/The_Mueller               6\n",
       "r/The_Donald                6\n",
       "r/nottheonion               6\n",
       "r/canada                    6\n",
       "r/movies                    6\n",
       "r/unitedkingdom             5\n",
       "r/pics                      5\n",
       "r/UpliftingNews             5\n",
       "r/sports                    5\n",
       "r/apple                     5\n",
       "r/antiaadhar                5\n",
       "                         ... \n",
       "r/oil                       1\n",
       "r/xboxone                   1\n",
       "r/GlobalClimateChange       1\n",
       "r/cemu                      1\n",
       "r/Washington                1\n",
       "r/washingtondc              1\n",
       "r/horror                    1\n",
       "r/woahdude                  1\n",
       "r/Slovenia                  1\n",
       "r/TrumpCriticizesTrump      1\n",
       "r/ColombianConflict         1\n",
       "r/rugbyunion                1\n",
       "r/PoliticalDiscussion       1\n",
       "r/Leathercraft              1\n",
       "r/iranian                   1\n",
       "r/cyberlaws                 1\n",
       "r/food                      1\n",
       "r/blender                   1\n",
       "r/ElectionPolitics          1\n",
       "r/weedstocks                1\n",
       "r/democrats                 1\n",
       "r/OldSchoolCool             1\n",
       "r/Economics                 1\n",
       "r/Veterans                  1\n",
       "r/conspiracyundone          1\n",
       "r/IndiaInvestments          1\n",
       "r/lifestyle                 1\n",
       "r/Monero                    1\n",
       "r/CrappyDesign              1\n",
       "r/indianews                 1\n",
       "Name: subreddits, Length: 322, dtype: int64"
      ]
     },
     "execution_count": 23,
     "metadata": {},
     "output_type": "execute_result"
    }
   ],
   "source": [
    "df.subreddits.value_counts()"
   ]
  },
  {
   "cell_type": "code",
   "execution_count": null,
   "metadata": {},
   "outputs": [],
   "source": []
  }
 ],
 "metadata": {
  "kernelspec": {
   "display_name": "Python 3",
   "language": "python",
   "name": "python3"
  },
  "language_info": {
   "codemirror_mode": {
    "name": "ipython",
    "version": 3
   },
   "file_extension": ".py",
   "mimetype": "text/x-python",
   "name": "python",
   "nbconvert_exporter": "python",
   "pygments_lexer": "ipython3",
   "version": "3.6.5"
  }
 },
 "nbformat": 4,
 "nbformat_minor": 2
}
